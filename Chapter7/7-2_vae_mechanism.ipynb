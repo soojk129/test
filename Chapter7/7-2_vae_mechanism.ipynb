{
 "cells": [
  {
   "cell_type": "markdown",
   "metadata": {
    "colab_type": "text",
    "id": "fOqhfIac2eK3"
   },
   "source": [
    "### 7.2.3 재구성 오차"
   ]
  },
  {
   "cell_type": "code",
   "execution_count": 0,
   "metadata": {
    "colab": {},
    "colab_type": "code",
    "id": "aEQhZssn94cy"
   },
   "outputs": [],
   "source": [
    "import numpy as np\n",
    "import matplotlib.pyplot as plt\n",
    "\n",
    "def square_error(x, y):\n",
    "    return (x - y)**2/2  # 오차제곱\n",
    "\n",
    "y = np.linspace(0, 1)\n",
    "xs = [0.25, 0.5, 0.75]\n",
    "for x in xs:\n",
    "    plt.plot(y, square_error(x, y), label=\"x=\"+str(x))\n",
    "    \n",
    "plt.legend()\n",
    "plt.xlabel(\"y\")\n",
    "plt.ylabel(\"Error\")\n",
    "plt.show()"
   ]
  },
  {
   "cell_type": "code",
   "execution_count": 0,
   "metadata": {
    "colab": {},
    "colab_type": "code",
    "id": "y1qH17nmOUlF"
   },
   "outputs": [],
   "source": [
    "import numpy as np\n",
    "import matplotlib.pyplot as plt\n",
    "\n",
    "def binary_crossentropy(x, y):\n",
    "    return -x*np.log(y) - (1-x)*np.log(1-y)  # # 두 값의 교차 엔트로피를 반환\n",
    "\n",
    "y = np.linspace(0.01, 0.99)\n",
    "xs = [0.25, 0.5, 0.75]\n",
    "for x in xs:\n",
    "    plt.plot(y, binary_crossentropy(x, y), label=\"x=\"+str(x))\n",
    "\n",
    "plt.legend()\n",
    "plt.xlabel(\"y\")\n",
    "plt.ylabel(\"Error\")\n",
    "plt.show()"
   ]
  }
 ],
 "metadata": {
  "colab": {
   "collapsed_sections": [],
   "name": "7-2_vae_mechanism.ipynb",
   "provenance": []
  },
  "kernelspec": {
   "display_name": "Python 3",
   "language": "python",
   "name": "python3"
  },
  "language_info": {
   "codemirror_mode": {
    "name": "ipython",
    "version": 3
   },
   "file_extension": ".py",
   "mimetype": "text/x-python",
   "name": "python",
   "nbconvert_exporter": "python",
   "pygments_lexer": "ipython3",
   "version": "3.8.3"
  }
 },
 "nbformat": 4,
 "nbformat_minor": 1
}
