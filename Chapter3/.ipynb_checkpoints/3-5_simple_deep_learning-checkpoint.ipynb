{
 "cells": [
  {
   "cell_type": "markdown",
   "metadata": {
    "colab_type": "text",
    "id": "x9Gzbn25XSlF"
   },
   "source": [
    "### 3.5.1 손글씨 숫자 이미지 데이터 학인"
   ]
  },
  {
   "cell_type": "code",
   "execution_count": null,
   "metadata": {
    "colab": {},
    "colab_type": "code",
    "id": "81Il03RNAmbS"
   },
   "outputs": [],
   "source": [
    "import numpy as np\n",
    "import matplotlib.pyplot as plt\n",
    "from sklearn import datasets\n",
    "\n",
    "digits_data = datasets.load_digits()\n",
    "\n",
    "n_img = 10  # 출력할 이미지 개수\n",
    "plt.figure(figsize=(10, 4))\n",
    "for i in range(n_img):\n",
    "    # 입력 이미지\n",
    "    ax = plt.subplot(2, 5, i+1)\n",
    "    plt.imshow(digits_data.data[i].reshape(8, 8), cmap=\"Greys_r\")\n",
    "    ax.get_xaxis().set_visible(False)  # 축을 표시하지 않음\n",
    "    ax.get_yaxis().set_visible(False)\n",
    "plt.show()\n",
    "\n",
    "print(\"데이터 형태:\", digits_data.data.shape)\n",
    "print(\"레이블:\", digits_data.target[:n_img])"
   ]
  }
 ],
 "metadata": {
  "accelerator": "GPU",
  "colab": {
   "collapsed_sections": [],
   "name": "3-5_simple_deep_learning.ipynb",
   "provenance": []
  },
  "kernelspec": {
   "display_name": "Python 3",
   "language": "python",
   "name": "python3"
  },
  "language_info": {
   "codemirror_mode": {
    "name": "ipython",
    "version": 3
   },
   "file_extension": ".py",
   "mimetype": "text/x-python",
   "name": "python",
   "nbconvert_exporter": "python",
   "pygments_lexer": "ipython3",
   "version": "3.8.3"
  }
 },
 "nbformat": 4,
 "nbformat_minor": 1
}
